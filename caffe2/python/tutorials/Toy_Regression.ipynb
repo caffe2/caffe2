{
 "cells": [
  {
   "cell_type": "markdown",
   "metadata": {},
   "source": [
    "# Tutorial 2. A Simple Toy Regression\n",
    "\n",
    "This is a quick example showing how one can use the concepts introduced in [Tutorial 1: Basics](https://caffe2.ai/docs/tutorial-basics-of-caffe2.html) to do regression. This tutorial is split up into two parts. **Part I** is a more verbose example of creating and training a polynomial regression model and **Part II** is a concise linear regression example.\n",
    "\n",
    "## Part I: Polynomial Regression\n",
    "\n",
    "The problem we are dealing with is a relatively simple one and involves a one-dimensional input $x$ and one-dimensional output $y.$ Because we seek a second order polynomial as the regression model, the weight vector will contain two weights ($\\beta_2$ and $\\beta_1$) and there will be a single bias ($\\beta_0$) or intercept. The desired solution is of the form:\n",
    "\n",
    "$$y = \\beta_2x^2 + \\beta_1x + \\beta_0$$\n",
    "\n",
    "For this tutorial, we will generate and format an arbitrary set of input data that posses a strong second order polynomial relationship. We will then construct the model, specify the training algorithm, perform the training, and finally look at the results."
   ]
  },
  {
   "cell_type": "code",
   "execution_count": 1,
   "metadata": {},
   "outputs": [
    {
     "name": "stderr",
     "output_type": "stream",
     "text": [
      "WARNING:root:This caffe2 python run does not have GPU support. Will run in CPU only mode.\n",
      "WARNING:root:Debug message: No module named caffe2_pybind11_state_gpu\n"
     ]
    }
   ],
   "source": [
    "from __future__ import absolute_import\n",
    "from __future__ import division\n",
    "from __future__ import print_function\n",
    "from __future__ import unicode_literals\n",
    "from caffe2.python import workspace, brew, optimizer\n",
    "from caffe2.python.model_helper import ModelHelper\n",
    "import numpy as np\n",
    "%matplotlib inline\n",
    "import matplotlib.pyplot as plt\n",
    "import sklearn.datasets\n",
    "from sklearn.preprocessing import PolynomialFeatures"
   ]
  },
  {
   "cell_type": "markdown",
   "metadata": {},
   "source": [
    "### Inputs\n",
    "\n",
    "Specify the input parameters of the regression model here including: number of samples in the input data, number of training iterations, learning rate of SGD algorithm, and the initial weights of the model"
   ]
  },
  {
   "cell_type": "code",
   "execution_count": 2,
   "metadata": {},
   "outputs": [],
   "source": [
    "# Number of training sample to generate\n",
    "num_samples = 200\n",
    "# Learning Rate of SGD algorithm\n",
    "learning_rate = .05\n",
    "# Number of iterations to train\n",
    "training_iters = 100\n",
    "# Initial model weights\n",
    "initial_weights = [0.,0.]"
   ]
  },
  {
   "cell_type": "markdown",
   "metadata": {},
   "source": [
    "### Create and Prepare the Dataset\n",
    "\n",
    "Now, we will create and prepare the dataset for use with the model. Note, we are just constructing numpy arrays here. Any other data can be used as long as it is shaped properly before being input into the model."
   ]
  },
  {
   "cell_type": "code",
   "execution_count": 3,
   "metadata": {},
   "outputs": [
    {
     "name": "stdout",
     "output_type": "stream",
     "text": [
      "X Sample:\n",
      "[[ 0.51050041  0.26061067]\n",
      " [ 1.99555493  3.98223949]\n",
      " [-1.39754679  1.95313702]\n",
      " [-2.49705978  6.23530755]\n",
      " [ 0.40541012  0.16435737]]\n",
      "Y Sample:\n",
      "[[0.2885043 ]\n",
      " [4.42556114]\n",
      " [2.31340938]\n",
      " [6.7403614 ]\n",
      " [0.51060994]]\n"
     ]
    },
    {
     "data": {
      "text/plain": [
       "Text(0.5,1,u'Input Training Data')"
      ]
     },
     "execution_count": 3,
     "metadata": {},
     "output_type": "execute_result"
    },
    {
     "data": {
      "image/png": "[encoded data removed]",
      "text/plain": [
       "<matplotlib.figure.Figure at 0x1a176ab190>"
      ]
     },
     "metadata": {},
     "output_type": "display_data"
    }
   ],
   "source": [
    "# Create the original observations\n",
    "orig_X,_ = sklearn.datasets.make_regression(n_samples=num_samples,n_features=1,noise=5)\n",
    "poly = PolynomialFeatures(degree=2, include_bias=False)\n",
    "# Transform the features into second order polynomial features\n",
    "xx_ = poly.fit_transform(orig_X)\n",
    "\n",
    "# Extract the predictors and the values from the manufactured data\n",
    "X = [i[0] for i in xx_]\n",
    "Y_gt = [i[1] for i in xx_]\n",
    "noise = np.random.uniform(size=(len(Y_gt)))\n",
    "# Add some noise to the ground truth values\n",
    "Y_gt += noise\n",
    "\n",
    "# Shape the ground truth values for use with the model\n",
    "Y_gt = np.reshape(Y_gt,(-1,1))\n",
    "# Format the input features. Recall, we accomplish polynomial regression by\n",
    "#   including the original and the polynomial version of the predictors\n",
    "#   as features of the model\n",
    "X = np.hstack((np.array(X).reshape(-1,1),np.array(X).reshape(-1,1)**2))\n",
    "\n",
    "# Print a sample of the input data. X is the list of 2-feature input observations \n",
    "#   and Y is the list of ground truth values associated with each observation\n",
    "print(\"X Sample:\\n{}\".format(X[:5]))\n",
    "print(\"Y Sample:\\n{}\".format(Y_gt[:5]))\n",
    "\n",
    "# Plot the input data\n",
    "plt.scatter([i[0] for i in X],Y_gt,label=\"original data\",color='b')\n",
    "plt.xlabel(\"x\")\n",
    "plt.ylabel(\"y\")\n",
    "plt.title(\"Input Training Data\")"
   ]
  },
  {
   "cell_type": "markdown",
   "metadata": {},
   "source": [
    "### Create the Model\n",
    "\n",
    "#### Define the model architecture\n",
    "With our training data created and our second order polynomial assumption stated, we can now create a model to learn the regression line. We will use a 'FC' layer as the main component of the model. Since we desire two weights ($\\beta_2$ and $\\beta_1$), we set our input dimension to 2, and since we only expect a single quantitative result, our output dimension is 1. Note, when using an 'FC' layer it is implied that there is a bias, which we will use as our $\\beta_0.$\n",
    "\n",
    "Also, before continuing take a look at the protobuf created in this step. The first print out is of the 'net,' and contains the architecture of the model. At a glance, we see that as expected, there is a single op in the network that expects an input $X,$ a weight and bias, and outputs $y_{pred}.$ In the print out of the 'param_init_net,' we see that this is where the initializations for the weights and biases exist. This is an important observation that gives insight into how a model in Caffe2 is constructed and maintained."
   ]
  },
  {
   "cell_type": "code",
   "execution_count": 4,
   "metadata": {},
   "outputs": [
    {
     "name": "stdout",
     "output_type": "stream",
     "text": [
      "************* Predict Net *************\n",
      "name: \"regression_model\"\n",
      "op {\n",
      "  input: \"X\"\n",
      "  input: \"y_pred_w\"\n",
      "  input: \"y_pred_b\"\n",
      "  output: \"y_pred\"\n",
      "  name: \"\"\n",
      "  type: \"FC\"\n",
      "  arg {\n",
      "    name: \"use_cudnn\"\n",
      "    i: 1\n",
      "  }\n",
      "  arg {\n",
      "    name: \"order\"\n",
      "    s: \"NCHW\"\n",
      "  }\n",
      "  arg {\n",
      "    name: \"cudnn_exhaustive_search\"\n",
      "    i: 0\n",
      "  }\n",
      "}\n",
      "external_input: \"X\"\n",
      "external_input: \"y_pred_w\"\n",
      "external_input: \"y_pred_b\"\n",
      "\n",
      "\n",
      "************* Init Net *************\n",
      "name: \"regression_model_init\"\n",
      "op {\n",
      "  output: \"y_pred_w\"\n",
      "  name: \"\"\n",
      "  type: \"XavierFill\"\n",
      "  arg {\n",
      "    name: \"shape\"\n",
      "    ints: 1\n",
      "    ints: 2\n",
      "  }\n",
      "}\n",
      "op {\n",
      "  output: \"y_pred_b\"\n",
      "  name: \"\"\n",
      "  type: \"ConstantFill\"\n",
      "  arg {\n",
      "    name: \"shape\"\n",
      "    ints: 1\n",
      "  }\n",
      "}\n",
      "\n"
     ]
    }
   ],
   "source": [
    "# Create the model helper object we will use to create the regression model\n",
    "regression_model = ModelHelper(name=\"regression_model\")\n",
    "\n",
    "# Add the FC layer, which is the main component of a linear regression model\n",
    "y_pred = brew.fc(regression_model,'X','y_pred', dim_in=2, dim_out=1)\n",
    "\n",
    "# Print the predict and init net to see what protobuf was created for this model\n",
    "print(\"************* Predict Net *************\")\n",
    "print(regression_model.net.Proto())\n",
    "print(\"\\n************* Init Net *************\")\n",
    "print(regression_model.param_init_net.Proto())"
   ]
  },
  {
   "cell_type": "markdown",
   "metadata": {},
   "source": [
    "#### Add the training operators and prime the workspace\n",
    "\n",
    "In this **very important** step, we specify the loss function, setup the SGD training algorithm, prime and initialize the workspace, and initialize our model's weights and biases."
   ]
  },
  {
   "cell_type": "code",
   "execution_count": 5,
   "metadata": {},
   "outputs": [
    {
     "data": {
      "text/plain": [
       "True"
      ]
     },
     "execution_count": 5,
     "metadata": {},
     "output_type": "execute_result"
    }
   ],
   "source": [
    "# The loss function is computed by a squared L2 distance, \n",
    "#   and then averaged over all items.\n",
    "dist = regression_model.SquaredL2Distance(['Y_gt', y_pred], \"dist\")\n",
    "loss = regression_model.AveragedLoss(dist, \"loss\")\n",
    "\n",
    "# Add the gradient operators and setup the SGD algorithm\n",
    "regression_model.AddGradientOperators([loss])\n",
    "optimizer.build_sgd(regression_model, base_learning_rate=learning_rate)\n",
    "\n",
    "# Prime the workspace with some data\n",
    "workspace.FeedBlob(\"Y_gt\",Y_gt.astype(np.float32))\n",
    "workspace.FeedBlob(\"X\",X.astype(np.float32))\n",
    "\n",
    "# Run the init net to prepare the workspace then create the net\n",
    "workspace.RunNetOnce(regression_model.param_init_net)\n",
    "workspace.CreateNet(regression_model.net)\n",
    "\n",
    "# Inject our desired initial weights and bias\n",
    "workspace.FeedBlob(\"y_pred_w\",np.array([initial_weights]).astype(np.float32))\n",
    "workspace.FeedBlob(\"y_pred_b\",np.array([0.]).astype(np.float32))"
   ]
  },
  {
   "cell_type": "markdown",
   "metadata": {},
   "source": [
    "#### Run the training"
   ]
  },
  {
   "cell_type": "code",
   "execution_count": 6,
   "metadata": {},
   "outputs": [
    {
     "name": "stdout",
     "output_type": "stream",
     "text": [
      "Training Complete\n"
     ]
    }
   ],
   "source": [
    "# Run the training for training_iters\n",
    "for i in range(training_iters):\n",
    "    workspace.RunNet(regression_model.net)\n",
    "\n",
    "print(\"Training Complete\")"
   ]
  },
  {
   "cell_type": "markdown",
   "metadata": {},
   "source": [
    "### Extract Results\n",
    "\n",
    "Now that our model is trained, we can pull out the learned weights and biases which exist as blobs in the workspace named 'y_pred_w' and 'y_pred_b.'"
   ]
  },
  {
   "cell_type": "code",
   "execution_count": 7,
   "metadata": {},
   "outputs": [
    {
     "name": "stdout",
     "output_type": "stream",
     "text": [
      "Best Fit Line: 0.99334*x^2 + 0.02599*x + 0.4981\n"
     ]
    },
    {
     "data": {
      "image/png": "[encoded data removed]",
      "text/plain": [
       "<matplotlib.figure.Figure at 0x1a204d5f50>"
      ]
     },
     "metadata": {},
     "output_type": "display_data"
    }
   ],
   "source": [
    "# Extract the learned coes and intercept from the workspace\n",
    "coes = workspace.FetchBlob(\"y_pred_w\")[0]\n",
    "intercept = workspace.FetchBlob(\"y_pred_b\")\n",
    "\n",
    "# Calculate the regression line for plotting\n",
    "x_vals = np.linspace(orig_X.min(), orig_X.max(),100)\n",
    "regression_result = intercept[0] + coes[0]*x_vals + coes[1]*(x_vals**2)\n",
    "print(\"Best Fit Line: {}*x^2 + {}*x + {}\".format(round(coes[1],5), round(coes[0],5), round(intercept[0],5)))\n",
    "\n",
    "# Plot the results of the regression\n",
    "plt.scatter([i[0] for i in X],Y_gt,label=\"original data\",color='b')\n",
    "plt.plot(x_vals,regression_result,label=\"regression result\",color='r')\n",
    "plt.legend()\n",
    "plt.xlabel(\"x\")\n",
    "plt.ylabel(\"y\")\n",
    "plt.title(\"Polynomial Regression Fit: ${{{}}}x^2 + {{{}}}x + {{{}}}$\".format(round(coes[1],5), round(coes[0],5), round(intercept[0],5)))\n",
    "plt.show()\n"
   ]
  },
  {
   "cell_type": "markdown",
   "metadata": {},
   "source": [
    "## Part II: Express Linear Regression Example\n",
    "\n",
    "The above example shows you how to create a polynomial regression model that is easily adapted to handle higher order polynomials. Now, we will consider the baseline case where we desire a simple first order model, with 1-D input $x,$ 1-D output $y,$ and a solution of the form:\n",
    "\n",
    "$$y = \\beta_1x + \\beta_0$$\n",
    "\n",
    "The structure of Part II will be similar to Part I. First, we will generate the dataset, then we will construct the model and specify the training routine, and finally we will train and extract our results."
   ]
  },
  {
   "cell_type": "code",
   "execution_count": 8,
   "metadata": {},
   "outputs": [
    {
     "data": {
      "image/png": "[encoded data removed]",
      "text/plain": [
       "<matplotlib.figure.Figure at 0x10cfa9710>"
      ]
     },
     "metadata": {},
     "output_type": "display_data"
    }
   ],
   "source": [
    "#####################################################################\n",
    "# Initialize data\n",
    "#####################################################################\n",
    "X,Y_gt = sklearn.datasets.make_regression(n_samples=100,n_features=1,noise=10)\n",
    "Y_gt = np.reshape(Y_gt,(-1,1))\n",
    "Y_gt /= 100.\n",
    "\n",
    "#####################################################################\n",
    "# Create and train model\n",
    "#####################################################################\n",
    "# Construct model with single FC layer\n",
    "regression_model = ModelHelper(name=\"regression_model\")\n",
    "y_pred = brew.fc(regression_model,'X','y_pred', dim_in=1, dim_out=1)\n",
    "\n",
    "# Specify Loss function\n",
    "dist = regression_model.SquaredL2Distance(['Y_gt', y_pred], \"dist\")\n",
    "loss = regression_model.AveragedLoss(dist, \"loss\")\n",
    "\n",
    "# Get gradients for all the computations above.\n",
    "regression_model.AddGradientOperators([loss])\n",
    "optimizer.build_sgd(regression_model, base_learning_rate=0.05)\n",
    "\n",
    "# Prime and prepare workspace for training\n",
    "workspace.FeedBlob(\"Y_gt\",Y_gt.astype(np.float32))\n",
    "workspace.FeedBlob(\"X\",X.astype(np.float32))\n",
    "workspace.RunNetOnce(regression_model.param_init_net)\n",
    "workspace.CreateNet(regression_model.net)\n",
    "\n",
    "# Set the initial weight and bias to 0\n",
    "workspace.FeedBlob(\"y_pred_w\",np.array([[0.]]).astype(np.float32))\n",
    "workspace.FeedBlob(\"y_pred_b\",np.array([0.]).astype(np.float32))\n",
    "\n",
    "# Train the model\n",
    "for i in range(100):\n",
    "    workspace.RunNet(regression_model.net)\n",
    "\n",
    "#####################################################################\n",
    "# Collect and format results\n",
    "#####################################################################\n",
    "# Grab the learned weight and bias from workspace\n",
    "coe = workspace.FetchBlob(\"y_pred_w\")[0]\n",
    "intercept = workspace.FetchBlob(\"y_pred_b\")\n",
    "\n",
    "# Calculate the regression line for plotting\n",
    "x_vals = range(-3,4)\n",
    "regression_result = x_vals*coe + intercept\n",
    "\n",
    "# Plot the results\n",
    "plt.scatter(X,Y_gt,label=\"original data\",color='b')\n",
    "plt.plot(x_vals,regression_result,label=\"regression result\",color='r')\n",
    "plt.legend()\n",
    "plt.xlabel(\"x\")\n",
    "plt.ylabel(\"y\")\n",
    "plt.title(\"Regression Line: ${{{}}}x + {{{}}}$\".format(round(coe,5), round(intercept[0],5)))\n",
    "plt.show()\n"
   ]
  }
 ],
 "metadata": {
  "kernelspec": {
   "display_name": "Python 2",
   "language": "python",
   "name": "python2"
  },
  "language_info": {
   "codemirror_mode": {
    "name": "ipython",
    "version": 2
   },
   "file_extension": ".py",
   "mimetype": "text/x-python",
   "name": "python",
   "nbconvert_exporter": "python",
   "pygments_lexer": "ipython2",
   "version": "2.7.14"
  }
 },
 "nbformat": 4,
 "nbformat_minor": 1
}
