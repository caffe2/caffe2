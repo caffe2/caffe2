{
 "cells": [
  {
   "cell_type": "markdown",
   "metadata": {},
   "source": [
    "# Getting Models and Datasets\n",
    "\n",
    "This tutorial will help you acquire a variety of models and datasets and put them into places that the other tutorials will expect. We will primarily utilize Caffe's pre-trained models and the scripts that come in that repo. If you don't already have it, then clone it like so:\n",
    "\n",
    "```\n",
    "git clone https://github.com/BVLC/caffe.git\n",
    "```\n",
    "\n",
    "TODO: add some Caffe2 models.\n",
    "TODO: add some datasets.\n",
    "\n",
    "Start by importing the required modules."
   ]
  },
  {
   "cell_type": "code",
   "execution_count": 1,
   "metadata": {
    "collapsed": false
   },
   "outputs": [
    {
     "name": "stdout",
     "output_type": "stream",
     "text": [
      "Required modules imported.\n"
     ]
    }
   ],
   "source": [
    "import os\n",
    "print(\"Required modules imported.\")"
   ]
  },
  {
   "cell_type": "markdown",
   "metadata": {},
   "source": [
    "Now you can setup your root folder for Caffe below if you put it somewhere else. You should only be changing the path that's being set for CAFFE_ROOT."
   ]
  },
  {
   "cell_type": "code",
   "execution_count": null,
   "metadata": {
    "collapsed": true
   },
   "outputs": [],
   "source": [
    "# You should have checked out original Caffe\n",
    "# git clone https://github.com/BVLC/caffe.git\n",
    "# change the CAFFE_ROOT directory below accordingly\n",
    "CAFFE_ROOT = os.path.expanduser('~/caffe')\n",
    "\n",
    "if not os.path.exists(CAFFE_ROOT):\n",
    "    print(\"Houston, you may have a problem.\") \n",
    "    print(\"Did you change CAFFE_ROOT to point to your local Caffe repo?\")\n",
    "    print(\"Try running: git clone https://github.com/BVLC/caffe.git\")"
   ]
  },
  {
   "cell_type": "markdown",
   "metadata": {},
   "source": [
    "Here's where you pick your model. There are several listed below such as AlexNet, GoogleNet, and Flickr Style."
   ]
  },
  {
   "cell_type": "code",
   "execution_count": 7,
   "metadata": {
    "collapsed": false
   },
   "outputs": [
    {
     "name": "stdout",
     "output_type": "stream",
     "text": [
      "You already have /home/aaron/caffe/models/bvlc_alexnet/bvlc_alexnet.caffemodel\n",
      "Now we can test the model!\n"
     ]
    }
   ],
   "source": [
    "# Pick a model, and if you don't have it, it will be downloaded\n",
    "# format below is the model's folder, model's dataset inside that folder\n",
    "MODEL = 'bvlc_alexnet', 'bvlc_alexnet.caffemodel' \n",
    "#MODEL = 'bvlc_googlenet', 'bvlc_googlenet.caffemodel'\n",
    "\n",
    "# TODO: test and add these to the main list\n",
    "#MODEL = 'bvlc_reference_rcc_ilsvrc13'\n",
    "#MODEL = 'finetune_flickr_style'\n",
    "#MODEL = 'bvlc_reference_caffenet', 'imagenet.bet.pickle'\n",
    "\n",
    "# scripts to download the models reside here\n",
    "# after downloading the data will exist with the script\n",
    "CAFFE_MODELS = os.path.join(CAFFE_ROOT, 'models')\n",
    "\n",
    "# this is like: ~/caffe/models/bvlc_alexnet/deploy.prototxt\n",
    "CAFFE_MODEL_FILE = os.path.join(CAFFE_MODELS, MODEL[0], 'deploy.prototxt')\n",
    "# this is like: ~/caffe/models/bvlc_alexnet/bvlc_alexnet.caffemodel\n",
    "CAFFE_PRETRAINED = os.path.join(CAFFE_MODELS, MODEL[0], MODEL[1])\n",
    "    \n",
    "# if the model folder doesn't have the goods, then get it\n",
    "# this is usually a pretty big file with the .caffemodel extension\n",
    "if not os.path.exists(CAFFE_PRETRAINED):\n",
    "    print(CAFFE_PRETRAINED + \" not found. Attempting download. Be patient...\")\n",
    "    os.system(\n",
    "        os.path.join(CAFFE_ROOT, 'scripts/download_model_binary.py') +\n",
    "        ' ' +\n",
    "        os.path.join(CAFFE_ROOT, 'models', MODEL[0]))\n",
    "else:\n",
    "    print(\"You already have \" + CAFFE_PRETRAINED)\n",
    "\n",
    "# if the .prototxt file was missing then you're in trouble; cannot continue\n",
    "if not os.path.exists(CAFFE_MODEL_FILE):\n",
    "    print(\"Caffe model file, \" + CAFFE_MODEL_FILE + \" was not found!\")\n",
    "else:\n",
    "    print(\"Now we can test the model!\")\n",
    "    #IMAGE_FILE = 'images/cat.jpg'\n",
    "    #print('Loading models...')\n",
    "    #caffenet = caffe_pb2.NetParameter()\n",
    "    #caffenet_pretrained = caffe_pb2.NetParameter()\n",
    "    #text_format.Merge(open(CAFFE_MODEL_FILE).read(), caffenet)\n",
    "    #caffenet_pretrained.ParseFromString(open(CAFFE_PRETRAINED).read())\n",
    "    #print('Model loaded.')"
   ]
  },
  {
   "cell_type": "markdown",
   "metadata": {
    "collapsed": true
   },
   "source": [
    "If you successfully downloaded a model, you can try to convert it to Caffe2 and play with it in the [Caffe Translator Tutorial](Caffe_translation.ipynb)."
   ]
  }
 ],
 "metadata": {
  "kernelspec": {
   "display_name": "Python 2",
   "language": "python",
   "name": "python2"
  },
  "language_info": {
   "codemirror_mode": {
    "name": "ipython",
    "version": 2
   },
   "file_extension": ".py",
   "mimetype": "text/x-python",
   "name": "python",
   "nbconvert_exporter": "python",
   "pygments_lexer": "ipython2",
   "version": "2.7.6"
  }
 },
 "nbformat": 4,
 "nbformat_minor": 2
}
